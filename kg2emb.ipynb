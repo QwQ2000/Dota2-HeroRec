{
 "cells": [
  {
   "cell_type": "code",
   "execution_count": 1,
   "id": "e13f7552",
   "metadata": {},
   "outputs": [],
   "source": [
    "import pickle as pkl\n",
    "\n",
    "with open('rawid2hero.pkl', 'rb') as f:\n",
    "    rawid2hero = pkl.load(f)"
   ]
  },
  {
   "cell_type": "code",
   "execution_count": 2,
   "id": "b0b94e1e",
   "metadata": {},
   "outputs": [],
   "source": [
    "name2id = {}\n",
    "for idx, h in enumerate(rawid2hero.values()):\n",
    "    name = h['name'][14:].replace('_', '-')\n",
    "    name2id[name] = idx"
   ]
  },
  {
   "cell_type": "code",
   "execution_count": 3,
   "id": "739b42a5",
   "metadata": {},
   "outputs": [
    {
     "data": {
      "text/plain": [
       "{'antimage': 0,\n",
       " 'axe': 1,\n",
       " 'bane': 2,\n",
       " 'bloodseeker': 3,\n",
       " 'crystal-maiden': 4,\n",
       " 'drow-ranger': 5,\n",
       " 'earthshaker': 6,\n",
       " 'juggernaut': 7,\n",
       " 'mirana': 8,\n",
       " 'morphling': 9,\n",
       " 'nevermore': 10,\n",
       " 'phantom-lancer': 11,\n",
       " 'puck': 12,\n",
       " 'pudge': 13,\n",
       " 'razor': 14,\n",
       " 'sand-king': 15,\n",
       " 'storm-spirit': 16,\n",
       " 'sven': 17,\n",
       " 'tiny': 18,\n",
       " 'vengefulspirit': 19,\n",
       " 'windrunner': 20,\n",
       " 'zuus': 21,\n",
       " 'kunkka': 22,\n",
       " 'lina': 23,\n",
       " 'lion': 24,\n",
       " 'shadow-shaman': 25,\n",
       " 'slardar': 26,\n",
       " 'tidehunter': 27,\n",
       " 'witch-doctor': 28,\n",
       " 'lich': 29,\n",
       " 'riki': 30,\n",
       " 'enigma': 31,\n",
       " 'tinker': 32,\n",
       " 'sniper': 33,\n",
       " 'necrolyte': 34,\n",
       " 'warlock': 35,\n",
       " 'beastmaster': 36,\n",
       " 'queenofpain': 37,\n",
       " 'venomancer': 38,\n",
       " 'faceless-void': 39,\n",
       " 'skeleton-king': 40,\n",
       " 'death-prophet': 41,\n",
       " 'phantom-assassin': 42,\n",
       " 'pugna': 43,\n",
       " 'templar-assassin': 44,\n",
       " 'viper': 45,\n",
       " 'luna': 46,\n",
       " 'dragon-knight': 47,\n",
       " 'dazzle': 48,\n",
       " 'rattletrap': 49,\n",
       " 'leshrac': 50,\n",
       " 'furion': 51,\n",
       " 'life-stealer': 52,\n",
       " 'dark-seer': 53,\n",
       " 'clinkz': 54,\n",
       " 'omniknight': 55,\n",
       " 'enchantress': 56,\n",
       " 'huskar': 57,\n",
       " 'night-stalker': 58,\n",
       " 'broodmother': 59,\n",
       " 'bounty-hunter': 60,\n",
       " 'weaver': 61,\n",
       " 'jakiro': 62,\n",
       " 'batrider': 63,\n",
       " 'chen': 64,\n",
       " 'spectre': 65,\n",
       " 'ancient-apparition': 66,\n",
       " 'doom-bringer': 67,\n",
       " 'ursa': 68,\n",
       " 'spirit-breaker': 69,\n",
       " 'gyrocopter': 70,\n",
       " 'alchemist': 71,\n",
       " 'invoker': 72,\n",
       " 'silencer': 73,\n",
       " 'obsidian-destroyer': 74,\n",
       " 'lycan': 75,\n",
       " 'brewmaster': 76,\n",
       " 'shadow-demon': 77,\n",
       " 'lone-druid': 78,\n",
       " 'chaos-knight': 79,\n",
       " 'meepo': 80,\n",
       " 'treant': 81,\n",
       " 'ogre-magi': 82,\n",
       " 'undying': 83,\n",
       " 'rubick': 84,\n",
       " 'disruptor': 85,\n",
       " 'nyx-assassin': 86,\n",
       " 'naga-siren': 87,\n",
       " 'keeper-of-the-light': 88,\n",
       " 'wisp': 89,\n",
       " 'visage': 90,\n",
       " 'slark': 91,\n",
       " 'medusa': 92,\n",
       " 'troll-warlord': 93,\n",
       " 'centaur': 94,\n",
       " 'magnataur': 95,\n",
       " 'shredder': 96,\n",
       " 'bristleback': 97,\n",
       " 'tusk': 98,\n",
       " 'skywrath-mage': 99,\n",
       " 'abaddon': 100,\n",
       " 'elder-titan': 101,\n",
       " 'legion-commander': 102,\n",
       " 'techies': 103,\n",
       " 'ember-spirit': 104,\n",
       " 'earth-spirit': 105,\n",
       " 'abyssal-underlord': 106,\n",
       " 'terrorblade': 107,\n",
       " 'phoenix': 108,\n",
       " 'oracle': 109,\n",
       " 'winter-wyvern': 110,\n",
       " 'arc-warden': 111,\n",
       " 'monkey-king': 112,\n",
       " 'dark-willow': 113,\n",
       " 'pangolier': 114,\n",
       " 'grimstroke': 115,\n",
       " 'hoodwink': 116,\n",
       " 'void-spirit': 117,\n",
       " 'snapfire': 118,\n",
       " 'mars': 119,\n",
       " 'dawnbreaker': 120,\n",
       " 'marci': 121,\n",
       " 'primal-beast': 122}"
      ]
     },
     "execution_count": 3,
     "metadata": {},
     "output_type": "execute_result"
    }
   ],
   "source": [
    "name2id"
   ]
  },
  {
   "cell_type": "code",
   "execution_count": 4,
   "id": "0a12442f",
   "metadata": {},
   "outputs": [],
   "source": [
    "from py2neo import Graph, Node, Relationship\n",
    "\n",
    "graph = Graph(\"bolt://localhost:7687\", auth=(\"neo4j\", \"1234\"))"
   ]
  },
  {
   "cell_type": "code",
   "execution_count": 5,
   "id": "3039a8d5",
   "metadata": {},
   "outputs": [
    {
     "data": {
      "text/plain": [
       "['BestAgainst',\n",
       " 'AtLane',\n",
       " 'PrimaryAttributeIs',\n",
       " 'WorstAgainst',\n",
       " 'HasLabel',\n",
       " 'UsesItem']"
      ]
     },
     "execution_count": 5,
     "metadata": {},
     "output_type": "execute_result"
    }
   ],
   "source": [
    "r_types = list(graph.schema.relationship_types)\n",
    "r_types"
   ]
  },
  {
   "cell_type": "code",
   "execution_count": 6,
   "id": "4868cf1a",
   "metadata": {},
   "outputs": [],
   "source": [
    "r_emb_dim = [5, 3, 2, 5, 5, 5]"
   ]
  },
  {
   "cell_type": "code",
   "execution_count": 9,
   "id": "b7d3ac1f",
   "metadata": {},
   "outputs": [],
   "source": [
    "import numpy as np\n",
    "from sklearn.preprocessing import LabelEncoder\n",
    "\n",
    "def to_matrix(pairs):\n",
    "    le = LabelEncoder()\n",
    "    pairs[:, 1] = le.fit_transform(pairs[:, 1])\n",
    "    m = np.zeros((len(name2id), len(le.classes_)))\n",
    "    for p in pairs:\n",
    "        h_str, e = p\n",
    "        h = name2id[h_str]\n",
    "        m[h][e] = 1\n",
    "    return m\n",
    "\n",
    "def graph_laplacian(y):\n",
    "    d_v = np.sum(y, axis=0)\n",
    "    d_norm = 1 / np.sqrt(d_v)\n",
    "    d = np.diag(d_norm)\n",
    "    return d @ y @ d\n",
    "\n",
    "def eig_decomp(m, F):\n",
    "    e_vals, e_vecs = np.linalg.eig(m)\n",
    "\n",
    "    pairs = [(e_vals[i], e_vecs[:, i]) for i in range(m.shape[0])]\n",
    "    pairs = sorted(pairs, key=lambda x:x[0], reverse=True)\n",
    "\n",
    "    p = np.stack([pairs[i][1] for i in range(F)]).T\n",
    "    p = np.real(p)\n",
    "    \n",
    "    return p"
   ]
  },
  {
   "cell_type": "code",
   "execution_count": 21,
   "id": "7c5df78f",
   "metadata": {},
   "outputs": [],
   "source": [
    "features = []\n",
    "for t, f in zip(r_types, r_emb_dim):\n",
    "    df = graph.run(\"MATCH x=(n:Hero)-[r]->(e) RETURN n.name, e.name\").to_data_frame()\n",
    "    m = to_matrix(np.array(df))\n",
    "    l = graph_laplacian(m @ m.T)\n",
    "    p = eig_decomp(l, f)\n",
    "    features.append(p)\n",
    "kg_embed = np.concatenate(features, 1)"
   ]
  },
  {
   "cell_type": "code",
   "execution_count": 23,
   "id": "edc69be3",
   "metadata": {},
   "outputs": [
    {
     "data": {
      "text/plain": [
       "(123, 25)"
      ]
     },
     "execution_count": 23,
     "metadata": {},
     "output_type": "execute_result"
    }
   ],
   "source": [
    "kg_embed.shape"
   ]
  },
  {
   "cell_type": "code",
   "execution_count": 25,
   "id": "becfd879",
   "metadata": {},
   "outputs": [],
   "source": [
    "np.save('kg_embed', kg_embed)"
   ]
  },
  {
   "cell_type": "code",
   "execution_count": 19,
   "id": "57a9de7c",
   "metadata": {},
   "outputs": [],
   "source": [
    "sim = np.zeros_like(l)\n",
    "for i in range(p.shape[0]):\n",
    "    for j in range(p.shape[0]):\n",
    "        sim[int(i)][int(j)] = np.dot(p[i], p[j]) / (np.linalg.norm(p[i]) * np.linalg.norm(p[j]))"
   ]
  },
  {
   "cell_type": "code",
   "execution_count": 20,
   "id": "29623383",
   "metadata": {},
   "outputs": [
    {
     "data": {
      "text/plain": [
       "array([ 34,  32,  63,  21,  74,  12,  41,  50, 103, 117,  20,  72,  99,\n",
       "        15,  23,  24,  31,  73,  16, 119,   6, 115,  36,  84,  47,  37,\n",
       "        96, 110,  43, 120,  66,  77,  88,  98,  27,  94,  76,  62, 102,\n",
       "        53, 113,  13,  48,  22,   1,  90,  49,  35, 122,  10,  71,  18,\n",
       "        85,  82,  28,  95,  25,   4,  67,  81,   2,  29,  26, 111,  55,\n",
       "        97, 118,  38,  83,  58,  86,  64, 106, 109,   8,  51, 104,  45,\n",
       "       105,  17,  57,  89, 100,  40,  56, 108, 121,  44, 101,  69,  80,\n",
       "        78,  14,  60,  19, 114,  79,  33,  70,  87, 116,  92,  52,  11,\n",
       "        59,  75,   9,  61,  68,  54,  46,  93, 112,   5, 107,   3,  91,\n",
       "        42,  65,  30,   0,  39,   7])"
      ]
     },
     "execution_count": 20,
     "metadata": {},
     "output_type": "execute_result"
    }
   ],
   "source": [
    "np.argsort(sim[7])"
   ]
  },
  {
   "cell_type": "code",
   "execution_count": null,
   "id": "693a7125",
   "metadata": {},
   "outputs": [],
   "source": []
  }
 ],
 "metadata": {
  "kernelspec": {
   "display_name": "Python 3 (ipykernel)",
   "language": "python",
   "name": "python3"
  },
  "language_info": {
   "codemirror_mode": {
    "name": "ipython",
    "version": 3
   },
   "file_extension": ".py",
   "mimetype": "text/x-python",
   "name": "python",
   "nbconvert_exporter": "python",
   "pygments_lexer": "ipython3",
   "version": "3.9.12"
  }
 },
 "nbformat": 4,
 "nbformat_minor": 5
}
